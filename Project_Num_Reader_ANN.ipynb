{
  "nbformat": 4,
  "nbformat_minor": 0,
  "metadata": {
    "colab": {
      "name": "Project_Num_Reader_ANN.ipynb",
      "provenance": [],
      "collapsed_sections": []
    },
    "kernelspec": {
      "name": "python3",
      "display_name": "Python 3"
    }
  },
  "cells": [
    {
      "cell_type": "code",
      "metadata": {
        "id": "c7ffNKyMvMld",
        "colab_type": "code",
        "colab": {}
      },
      "source": [
        "pip install --upgrade tensorflow\n"
      ],
      "execution_count": 0,
      "outputs": []
    },
    {
      "cell_type": "code",
      "metadata": {
        "id": "x04SXrgxhQHH",
        "colab_type": "code",
        "colab": {}
      },
      "source": [
        "import tensorflow as tf \n",
        "tf.__version__"
      ],
      "execution_count": 0,
      "outputs": []
    },
    {
      "cell_type": "code",
      "metadata": {
        "id": "0CfHarZsgTCH",
        "colab_type": "code",
        "colab": {
          "base_uri": "https://localhost:8080/",
          "height": 136
        },
        "outputId": "4dcb17a7-d240-41f1-dd0d-cc168c7103f9"
      },
      "source": [
        "import tensorflow as tf\n",
        "\n",
        "mnist = tf.keras.datasets.mnist  #28x28 images of hand-written digits 0-9\n",
        "\n",
        "(x_train, y_train), (x_test, y_test) = mnist.load_data() #divide the data set into train and test\n",
        "\n",
        "x_train = tf.keras.utils.normalize(x_train, axis=1) #normalise the data that varie between 0 and 255  (pixel =8bits)\n",
        "x_test = tf.keras.utils.normalize(x_test, axis=1)\n",
        " #model building\n",
        "\n",
        "model = tf.keras.models.Sequential()\n",
        "model.add(tf.keras.layers.Flatten()) # input layer\n",
        "model.add(tf.keras.layers.Dense(128, activation=tf.nn.relu))\n",
        "model.add(tf.keras.layers.Dense(128,activation=tf.nn.relu))\n",
        "model.add(tf.keras.layers.Dense(10,activation=tf.nn.softmax)) #output layer\n",
        "\n",
        "model.compile(optimizer='adam',\n",
        "              loss='sparse_categorical_crossentropy',\n",
        "              metrics=['accuracy'])\n",
        "model.fit(x_train, y_train, epochs=3) # the neural network will see each unique sample 3 times.\n",
        "\n"
      ],
      "execution_count": 15,
      "outputs": [
        {
          "output_type": "stream",
          "text": [
            "Epoch 1/3\n",
            "1875/1875 [==============================] - 4s 2ms/step - loss: 0.2587 - accuracy: 0.9236\n",
            "Epoch 2/3\n",
            "1875/1875 [==============================] - 4s 2ms/step - loss: 0.1057 - accuracy: 0.9671\n",
            "Epoch 3/3\n",
            "1875/1875 [==============================] - 4s 2ms/step - loss: 0.0710 - accuracy: 0.9774\n"
          ],
          "name": "stdout"
        },
        {
          "output_type": "execute_result",
          "data": {
            "text/plain": [
              "<tensorflow.python.keras.callbacks.History at 0x7f7c92a3cc50>"
            ]
          },
          "metadata": {
            "tags": []
          },
          "execution_count": 15
        }
      ]
    },
    {
      "cell_type": "code",
      "metadata": {
        "id": "IXvDTm-Rgu4M",
        "colab_type": "code",
        "colab": {}
      },
      "source": [
        "#exemple\n",
        "\n",
        "import matplotlib.pyplot as plt\n",
        "\n",
        "plt.imshow(x_train[0], cmap=plt.cm.binary) # black and white image\n",
        "\n",
        "\n",
        "print(x_train[0])"
      ],
      "execution_count": 0,
      "outputs": []
    },
    {
      "cell_type": "code",
      "metadata": {
        "id": "r0mQg8CKhOqm",
        "colab_type": "code",
        "colab": {
          "base_uri": "https://localhost:8080/",
          "height": 51
        },
        "outputId": "520e78c5-fc6f-4fb3-bd75-816ba042cd78"
      },
      "source": [
        "#Out of sample accuracy slightly lower \n",
        "#Out of sample loss slightly higher\n",
        "\n",
        "val_loss, val_acc = model.evaluate(x_test, y_test)\n",
        "print(val_loss, val_acc)"
      ],
      "execution_count": 17,
      "outputs": [
        {
          "output_type": "stream",
          "text": [
            "313/313 [==============================] - 0s 1ms/step - loss: 0.0894 - accuracy: 0.9731\n",
            "0.08942832052707672 0.9731000065803528\n"
          ],
          "name": "stdout"
        }
      ]
    },
    {
      "cell_type": "code",
      "metadata": {
        "id": "VdkDUIHUn5Dp",
        "colab_type": "code",
        "colab": {
          "base_uri": "https://localhost:8080/",
          "height": 34
        },
        "outputId": "4a7efc3a-b016-4397-90bf-76d2f59aa9f4"
      },
      "source": [
        "model.save('num_reader.model')"
      ],
      "execution_count": 43,
      "outputs": [
        {
          "output_type": "stream",
          "text": [
            "INFO:tensorflow:Assets written to: epic_num_reader.model/assets\n"
          ],
          "name": "stdout"
        }
      ]
    },
    {
      "cell_type": "code",
      "metadata": {
        "id": "du24y63uoGOU",
        "colab_type": "code",
        "colab": {}
      },
      "source": [
        "new_model = tf.keras.models.load_model('num_reader.model')\n",
        "                              "
      ],
      "execution_count": 0,
      "outputs": []
    },
    {
      "cell_type": "code",
      "metadata": {
        "id": "pVtmAeNAoXal",
        "colab_type": "code",
        "colab": {}
      },
      "source": [
        "\n",
        "\n",
        "predictions = new_model.predict(x_test)"
      ],
      "execution_count": 0,
      "outputs": []
    },
    {
      "cell_type": "code",
      "metadata": {
        "id": "8iB1ImProdU-",
        "colab_type": "code",
        "colab": {
          "base_uri": "https://localhost:8080/",
          "height": 238
        },
        "outputId": "b095c66b-e56d-4d36-a4b5-2d960b0def62"
      },
      "source": [
        "#Array of probability distributions\n",
        "print(predictions)\n"
      ],
      "execution_count": 52,
      "outputs": [
        {
          "output_type": "stream",
          "text": [
            "[[4.2253707e-09 1.7202598e-08 4.7114563e-06 ... 9.9993217e-01\n",
            "  6.9984111e-08 3.8415699e-08]\n",
            " [1.2631829e-10 6.6188863e-05 9.9993217e-01 ... 1.5827067e-10\n",
            "  3.9301415e-09 1.3675733e-13]\n",
            " [6.2413854e-08 9.9978906e-01 9.5319365e-06 ... 2.9552606e-05\n",
            "  1.4490807e-04 5.1269262e-07]\n",
            " ...\n",
            " [1.1436131e-08 3.6276097e-07 1.7890748e-08 ... 1.2789491e-06\n",
            "  2.4019238e-05 4.3251272e-04]\n",
            " [9.0180414e-08 3.2777714e-07 1.2456659e-08 ... 9.8665957e-08\n",
            "  3.4719676e-04 1.6799450e-09]\n",
            " [1.8037602e-07 4.8114376e-08 1.2368679e-06 ... 4.2500856e-10\n",
            "  5.4684892e-07 5.8824581e-09]]\n"
          ],
          "name": "stdout"
        }
      ]
    },
    {
      "cell_type": "code",
      "metadata": {
        "id": "B87VvSRLoncM",
        "colab_type": "code",
        "colab": {
          "base_uri": "https://localhost:8080/",
          "height": 34
        },
        "outputId": "a359aa36-0cf1-47fd-9b53-a2bf24c19e28"
      },
      "source": [
        "#Predict 0th index\n",
        "import numpy as np\n",
        "print(np.argmax(predictions[0]))"
      ],
      "execution_count": 53,
      "outputs": [
        {
          "output_type": "stream",
          "text": [
            "7\n"
          ],
          "name": "stdout"
        }
      ]
    },
    {
      "cell_type": "code",
      "metadata": {
        "id": "PWzOwJoYozTl",
        "colab_type": "code",
        "colab": {
          "base_uri": "https://localhost:8080/",
          "height": 265
        },
        "outputId": "a4e439d8-a6e0-4e6d-f95d-d06e21e4a6dd"
      },
      "source": [
        "#Confirmation\n",
        "plt.imshow(x_test[0])\n",
        "plt.show()"
      ],
      "execution_count": 54,
      "outputs": [
        {
          "output_type": "display_data",
          "data": {
            "image/png": "[encoded data removed]",
            "text/plain": [
              "<Figure size 432x288 with 1 Axes>"
            ]
          },
          "metadata": {
            "tags": []
          }
        }
      ]
    },
    {
      "cell_type": "code",
      "metadata": {
        "id": "Tth8Bt9HMx2n",
        "colab_type": "code",
        "colab": {}
      },
      "source": [
        ""
      ],
      "execution_count": 0,
      "outputs": []
    },
    {
      "cell_type": "code",
      "metadata": {
        "colab_type": "code",
        "outputId": "dac9f190-139a-4b4d-fa44-3029e6aaa13a",
        "id": "5T66b251M16y",
        "colab": {
          "base_uri": "https://localhost:8080/",
          "height": 34
        }
      },
      "source": [
        "#Predict 0th index\n",
        "import numpy as np\n",
        "print(np.argmax(predictions[5]))"
      ],
      "execution_count": 55,
      "outputs": [
        {
          "output_type": "stream",
          "text": [
            "1\n"
          ],
          "name": "stdout"
        }
      ]
    },
    {
      "cell_type": "code",
      "metadata": {
        "id": "UvpXnI_vNHPz",
        "colab_type": "code",
        "colab": {
          "base_uri": "https://localhost:8080/",
          "height": 265
        },
        "outputId": "96a41e49-e0c1-421e-ea7e-d1ea1f2e4c7b"
      },
      "source": [
        "plt.imshow(x_test[5\n",
        "                  ])\n",
        "plt.show()"
      ],
      "execution_count": 56,
      "outputs": [
        {
          "output_type": "display_data",
          "data": {
            "image/png": "[encoded data removed]",
            "text/plain": [
              "<Figure size 432x288 with 1 Axes>"
            ]
          },
          "metadata": {
            "tags": []
          }
        }
      ]
    }
  ]
}